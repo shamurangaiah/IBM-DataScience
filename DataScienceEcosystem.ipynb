{
 "cells": [
  {
   "cell_type": "markdown",
   "id": "1afe8ff3",
   "metadata": {},
   "source": [
    "# Data Science Tools and Ecosystem"
   ]
  },
  {
   "cell_type": "markdown",
   "id": "f446f04b",
   "metadata": {},
   "source": [
    "#### In this notebook, Data Science Tools and Ecosystem are summarized "
   ]
  },
  {
   "cell_type": "markdown",
   "id": "0dde83a2",
   "metadata": {},
   "source": [
    "### Objectives:"
   ]
  },
  {
   "cell_type": "markdown",
   "id": "833128d2",
   "metadata": {},
   "source": [
    "Some of the popular languages that Data Scientists use are:\n",
    "1. python\n",
    "2. R"
   ]
  },
  {
   "cell_type": "markdown",
   "id": "c7ce4ce8",
   "metadata": {},
   "source": [
    "Some of the commonly used libraries used by Data Scientists include:\n",
    "1. scikit-learn\n",
    "2. pandas\n",
    "3. numpy\n",
    "4. matplotlib"
   ]
  },
  {
   "cell_type": "markdown",
   "id": "14c6841d",
   "metadata": {},
   "source": [
    "Data Science Tools:\n",
    "\n",
    "\n",
    "|      Tools         | \n",
    "|:-------------------|\n",
    "|     Git            |\n",
    "|     Github         |\n",
    "|     Gitlab         |"
   ]
  },
  {
   "cell_type": "markdown",
   "id": "1e520bf1",
   "metadata": {},
   "source": [
    "### Below are a few examples of evaluating arithmetic expressions in Python\n",
    "\n",
    "1. a=1+2\n",
    "2. b=1*2\n",
    "3. c=a//b"
   ]
  },
  {
   "cell_type": "code",
   "execution_count": 3,
   "id": "a07db121",
   "metadata": {},
   "outputs": [
    {
     "data": {
      "text/plain": [
       "17"
      ]
     },
     "execution_count": 3,
     "metadata": {},
     "output_type": "execute_result"
    }
   ],
   "source": [
    "# This a simple arithmetic expression to mutiply then add integers\n",
    "a=(3*4)+5"
   ]
  },
  {
   "cell_type": "code",
   "execution_count": 16,
   "id": "c4665dbe",
   "metadata": {},
   "outputs": [
    {
     "name": "stdout",
     "output_type": "stream",
     "text": [
      "200 minutes is 3.33 hours\n"
     ]
    }
   ],
   "source": [
    "#This will convert 200 minutes to hours by diving by 60\n",
    "hrs = round(200/60,2)\n",
    "print (\"200 minutes is\",hrs,\"hours\" )"
   ]
  },
  {
   "cell_type": "markdown",
   "id": "8ba9bf7e",
   "metadata": {},
   "source": [
    "## Author \n",
    "Shamu Rangaiah"
   ]
  }
 ],
 "metadata": {
  "kernelspec": {
   "display_name": "Python 3 (ipykernel)",
   "language": "python",
   "name": "python3"
  },
  "language_info": {
   "codemirror_mode": {
    "name": "ipython",
    "version": 3
   },
   "file_extension": ".py",
   "mimetype": "text/x-python",
   "name": "python",
   "nbconvert_exporter": "python",
   "pygments_lexer": "ipython3",
   "version": "3.9.17"
  }
 },
 "nbformat": 4,
 "nbformat_minor": 5
}
